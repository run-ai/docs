{
 "cells": [
  {
   "cell_type": "code",
   "execution_count": 1,
   "id": "42aef112-edb4-4dc0-94c1-8825e0ef89a8",
   "metadata": {},
   "outputs": [],
   "source": [
    "import seaborn as sns\n",
    "import matplotlib.pyplot as plt\n",
    "import mlflow"
   ]
  },
  {
   "cell_type": "code",
   "execution_count": 2,
   "id": "fe8e9c3f-edaa-47b4-8644-943f26d9b75a",
   "metadata": {},
   "outputs": [],
   "source": [
    "uri = 'http://0.0.0.0:5000'\n",
    "project_name = 'test_project'\n",
    "run_name = 'run_0'\n",
    "\n",
    "model_configs = {\n",
    "    'EPOCHS': 5,\n",
    "    'BATCH_SIZE': 194,\n",
    "    'LEARNING_RATE': 0.0005,\n",
    "    'WARMUP_EPOCHS': 1,\n",
    "    'WARMUP_LR': 1e-06,\n",
    "    'INNER_ACTIVATIONS': 'selu',\n",
    "    'LAST_ACTIVATION': 'softmax',\n",
    "    'LOSS_FUNCTION': 'CategoricalCrossentropy',\n",
    "    'BN_MOMEN': 0.5\n",
    "                }\n",
    "\n",
    "model_architecture = 'architecture_1'\n",
    "last_activation = 'softmax'"
   ]
  },
  {
   "cell_type": "code",
   "execution_count": 3,
   "id": "5596aba5-d7af-4e2c-b1f6-27a88358ad92",
   "metadata": {},
   "outputs": [
    {
     "data": {
      "text/plain": [
       "<Experiment: artifact_location='/home/jovyan/work/mlflow/artifacts/1', experiment_id='1', lifecycle_stage='active', name='test_project', tags={}>"
      ]
     },
     "execution_count": 3,
     "metadata": {},
     "output_type": "execute_result"
    }
   ],
   "source": [
    "mlflow.set_tracking_uri(uri)\n",
    "mlflow.set_experiment(experiment_name=project_name)"
   ]
  },
  {
   "cell_type": "code",
   "execution_count": 4,
   "id": "d2e55632-c726-4463-904c-14a4215cce4a",
   "metadata": {},
   "outputs": [],
   "source": [
    "mlflow.log_params(model_configs)\n",
    "mlflow.set_tags({'model_architecture': model_architecture,\n",
    "                 'last_activation': last_activation,\n",
    "                }\n",
    "               )"
   ]
  },
  {
   "cell_type": "code",
   "execution_count": 5,
   "id": "7793bdcb-b39a-4975-8397-9921ba71d02e",
   "metadata": {},
   "outputs": [
    {
     "data": {
      "image/png": "[encoded data removed]",
      "text/plain": [
       "<Figure size 432x288 with 1 Axes>"
      ]
     },
     "metadata": {
      "needs_background": "light"
     },
     "output_type": "display_data"
    }
   ],
   "source": [
    "sns.set_context(\"talk\")\n",
    "cur_plot_title = \"Test plot\"\n",
    "a_plot = sns.scatterplot(x=[1,2], y=[1,2])\n",
    "sns.set(rc = {'figure.figsize':(8,8)})\n",
    "plt.tight_layout()\n",
    "\n",
    "cur_plot_name = f\"{cur_plot_title}.png\"\n",
    "a_plot.figure.savefig(cur_plot_name)\n",
    "mlflow.log_artifact(cur_plot_name)"
   ]
  },
  {
   "cell_type": "code",
   "execution_count": 6,
   "id": "8b906b4e-d621-4db1-a3f9-3ce085e31f1a",
   "metadata": {},
   "outputs": [],
   "source": [
    "mlflow.end_run()"
   ]
  },
  {
   "cell_type": "code",
   "execution_count": null,
   "id": "578e1aa3-669c-4a52-a7f5-caf9c724da5b",
   "metadata": {},
   "outputs": [],
   "source": []
  }
 ],
 "metadata": {
  "kernelspec": {
   "display_name": "Python 3 (ipykernel)",
   "language": "python",
   "name": "python3"
  },
  "language_info": {
   "codemirror_mode": {
    "name": "ipython",
    "version": 3
   },
   "file_extension": ".py",
   "mimetype": "text/x-python",
   "name": "python",
   "nbconvert_exporter": "python",
   "pygments_lexer": "ipython3",
   "version": "3.8.13"
  }
 },
 "nbformat": 4,
 "nbformat_minor": 5
}
