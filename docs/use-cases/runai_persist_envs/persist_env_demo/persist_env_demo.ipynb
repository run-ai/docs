{
 "cells": [
  {
   "cell_type": "code",
   "execution_count": null,
   "id": "d35361c1-f647-49b2-bfb3-eca54b2aabe4",
   "metadata": {},
   "outputs": [],
   "source": [
    "import pandas as pd"
   ]
  },
  {
   "cell_type": "code",
   "execution_count": null,
   "id": "f380bcd9-212f-409f-88c1-c50cf5673839",
   "metadata": {},
   "outputs": [],
   "source": [
    "d = {'col1': [1, 2], 'col2': [3, 4]}\n",
    "df = pd.DataFrame(data=d)"
   ]
  },
  {
   "cell_type": "code",
   "execution_count": null,
   "id": "02da8725-f268-40fc-b058-e11cc4f4348d",
   "metadata": {},
   "outputs": [],
   "source": [
    "print(f'this is a pandas dataframe:\\n{df}')"
   ]
  },
  {
   "cell_type": "code",
   "execution_count": null,
   "id": "5242d64d-7924-49c8-a667-3ba0970cd8ed",
   "metadata": {},
   "outputs": [],
   "source": []
  }
 ],
 "metadata": {
  "kernelspec": {
   "display_name": "Python 3 (ipykernel)",
   "language": "python",
   "name": "python3"
  },
  "language_info": {
   "codemirror_mode": {
    "name": "ipython",
    "version": 3
   },
   "file_extension": ".py",
   "mimetype": "text/x-python",
   "name": "python",
   "nbconvert_exporter": "python",
   "pygments_lexer": "ipython3",
   "version": "3.10.6"
  }
 },
 "nbformat": 4,
 "nbformat_minor": 5
}
